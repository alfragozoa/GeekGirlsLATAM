{
 "cells": [
  {
   "cell_type": "markdown",
   "id": "e4060a00-828b-4c70-beab-b555e0fe8ffc",
   "metadata": {},
   "source": [
    "# Data Science Tools and Ecosystem"
   ]
  },
  {
   "cell_type": "markdown",
   "id": "a919a2cc-d971-401d-9b55-c612aaad6be3",
   "metadata": {},
   "source": [
    "## **Introduction**  \n",
    "Following there is summarized some important tools for data scientist to take into account."
   ]
  },
  {
   "cell_type": "markdown",
   "id": "d7b00f7d-d6ca-4435-aa5d-b20136fb0888",
   "metadata": {
    "tags": []
   },
   "source": [
    "## **Data Science Languages**  \n",
    "Some of the popular languages that Data Scientists use are:  \n",
    "\n",
    "1. Python\n",
    "2. Julia\n",
    "3. R\n",
    "4. C++\n",
    "5. C\n",
    "6. Java\n",
    "***"
   ]
  },
  {
   "cell_type": "markdown",
   "id": "be59129c-9c8e-4cc2-a6fa-ff5105f2c20b",
   "metadata": {},
   "source": [
    "## **Data Science Libraries**  \n",
    "Some of the most used libraries by Data Scientists include:\n",
    "- Pandas\n",
    "- TensorFlow\n",
    "- Scipy\n",
    "- Numpy\n",
    "- Mathplotlib\n",
    "- Ggplot2"
   ]
  },
  {
   "cell_type": "markdown",
   "id": "5e410073-d71d-4361-8f56-1861fb6e4e2d",
   "metadata": {},
   "source": [
    "## **Data Science Tools**  \n",
    "| Data Science Tools |\n",
    "| ---- |\n",
    "| R Studio |\n",
    "| Jupyter Notebooks |\n",
    "| Apache Spark |\n"
   ]
  },
  {
   "cell_type": "markdown",
   "id": "0c940a49-633f-4667-ba99-1653f68eae26",
   "metadata": {},
   "source": [
    "### *Arithmetic Expressions Examples in Python*  \n",
    "2+2=4  \n",
    "5*6=30  \n",
    "60-43=17  \n",
    "2**3=8"
   ]
  },
  {
   "cell_type": "code",
   "execution_count": 1,
   "id": "f6ee6e78-ae85-4057-9ec7-51b4250b7710",
   "metadata": {},
   "outputs": [
    {
     "name": "stdout",
     "output_type": "stream",
     "text": [
      "This is a program for sum and multiply\n"
     ]
    },
    {
     "name": "stdin",
     "output_type": "stream",
     "text": [
      "Insert first number 3\n",
      "Insert second number 4\n"
     ]
    },
    {
     "name": "stdout",
     "output_type": "stream",
     "text": [
      "The sum of the numbers is 7.0 and the product is 12.0\n"
     ]
    }
   ],
   "source": [
    "## Sum and multiply\n",
    "print( \"This is a program for sum and multiply\")\n",
    "a=float(input(\"Insert first number\"))\n",
    "b=float(input(\"Insert second number\"))\n",
    "addition=a+b\n",
    "product=a*b\n",
    "print(\"The sum of the numbers is \" + str(addition) + \" and the product is \" +str(product))"
   ]
  },
  {
   "cell_type": "code",
   "execution_count": 2,
   "id": "2665431e-4a2a-45d8-a174-22ff6fbb005e",
   "metadata": {},
   "outputs": [
    {
     "name": "stdout",
     "output_type": "stream",
     "text": [
      "This program convert minutes to hours\n"
     ]
    },
    {
     "name": "stdin",
     "output_type": "stream",
     "text": [
      "Insert the number of minutes 200\n"
     ]
    },
    {
     "name": "stdout",
     "output_type": "stream",
     "text": [
      "200 minutes is equivalent to 3.3333333333333335 hours\n"
     ]
    }
   ],
   "source": [
    "#Convert minutes to hours\n",
    "print(\"This program convert minutes to hours\")\n",
    "a=int(input(\"Insert the number of minutes\"))\n",
    "print(str(a)+\" minutes is equivalent to \"+str(a/60)+\" hours\")"
   ]
  },
  {
   "cell_type": "markdown",
   "id": "400f8fee-f9e0-4871-a4a2-95144e069410",
   "metadata": {},
   "source": [
    "***\n",
    "### **Objectives List**  \n",
    "- Learn about programming languages\n",
    "- Identify data science libraries\n",
    "- Have an overview of the data scientist tools"
   ]
  },
  {
   "cell_type": "markdown",
   "id": "22275597-ffce-4511-b25c-25b83f9085f2",
   "metadata": {},
   "source": [
    "## *****Author*****   \n",
    "Adrianna Fragozo"
   ]
  },
  {
   "cell_type": "code",
   "execution_count": null,
   "id": "19a57da7-9c3c-411e-a954-3faf2514217e",
   "metadata": {},
   "outputs": [],
   "source": []
  }
 ],
 "metadata": {
  "kernelspec": {
   "display_name": "Python",
   "language": "python",
   "name": "conda-env-python-py"
  },
  "language_info": {
   "codemirror_mode": {
    "name": "ipython",
    "version": 3
   },
   "file_extension": ".py",
   "mimetype": "text/x-python",
   "name": "python",
   "nbconvert_exporter": "python",
   "pygments_lexer": "ipython3",
   "version": "3.7.12"
  }
 },
 "nbformat": 4,
 "nbformat_minor": 5
}
